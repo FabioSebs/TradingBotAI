{
 "cells": [
  {
   "cell_type": "markdown",
   "metadata": {},
   "source": [
    "# Imports"
   ]
  },
  {
   "cell_type": "code",
   "execution_count": 1,
   "metadata": {},
   "outputs": [],
   "source": [
    "from pyrh import Robinhood\n",
    "import dotenv\n",
    "dotenv.load_dotenv()\n",
    "import os\n",
    "import numpy as np\n",
    "import tulipy as ti\n",
    "import sched, time"
   ]
  },
  {
   "cell_type": "markdown",
   "metadata": {},
   "source": [
    "# Credentials Login"
   ]
  },
  {
   "cell_type": "code",
   "execution_count": 2,
   "metadata": {},
   "outputs": [],
   "source": [
    "def RHlogin():\n",
    "    USERNAME = os.getenv(\"RH_USERNAME\")\n",
    "    PASSWORD = os.getenv(\"RH_PASSWORD\")\n",
    "\n",
    "    rh = Robinhood(username=USERNAME, password=PASSWORD)\n",
    "    rh.login()"
   ]
  },
  {
   "cell_type": "markdown",
   "metadata": {},
   "source": [
    "# Variable Declarations!"
   ]
  },
  {
   "cell_type": "code",
   "execution_count": 3,
   "metadata": {},
   "outputs": [],
   "source": [
    "traded = False\n",
    "rsiStep = 5\n",
    "s = sched.scheduler(time.time, time.sleep)"
   ]
  },
  {
   "cell_type": "markdown",
   "metadata": {},
   "source": [
    "# Making the Run Function"
   ]
  },
  {
   "cell_type": "code",
   "execution_count": null,
   "metadata": {},
   "outputs": [],
   "source": [
    "def run(sc):\n",
    "    global traded\n",
    "    global rsiStep\n",
    "    \n",
    "    RHlogin()\n",
    "    \n",
    "    print(\"Getting Historical Quotes\")\n",
    "     # Get 5 minute graph data for Ford stock\n",
    "    historical_quotes = rh.get_historical_quotes(\"F\", \"5minute\", \"day\")\n",
    "    closePrices = []\n",
    "    \n",
    "    #format close prices for RSI\n",
    "    currentIndex = 0\n",
    "    currentSupport  = 0\n",
    "    currentResistance = 0\n",
    "    for key in historical_quotes[\"results\"][0][\"historicals\"]:\n",
    "        if (currentIndex >= len(historical_quotes[\"results\"][0][\"historicals\"]) - (rsiStep + 1)):\n",
    "            if (currentIndex >= (rsiStep-1) and datetime.strptime(key['begins_at'], '%Y-%m-%dT%H:%M:%SZ').minute == 0):\n",
    "                currentSupport = 0\n",
    "                currentResistance = 0\n",
    "                print(\"Resetting support and resistance\")\n",
    "            if(float(key['close_price']) < currentSupport or currentSupport == 0):\n",
    "               currentSupport = float(key['close_price'])\n",
    "               print(\"Current Support is : \")\n",
    "               print(currentSupport)\n",
    "            if(float(key['close_price']) > currentResistance):\n",
    "               currentResistance = float(key['close_price'])\n",
    "               print(\"Current Resistance is : \")\n",
    "               print(currentResistance)\n",
    "            closePrices.append(float(key['close_price']))\n",
    "        currentIndex += 1\n",
    "    DATA = np.array(closePrices)\n",
    "    if (len(closePrices) > (rsiStep)):\n",
    "        #Calculate RSI\n",
    "        rsi = ti.rsi(DATA, period=rsiStep)\n",
    "        instrument = rh.instruments(\"F\")[0]\n",
    "        #If rsi is less than or equal to 30 buy\n",
    "        if rsi[len(rsi) - 1] <= 30 and float(key['close_price']) <= currentSupport and not traded:\n",
    "            print(\"Buying RSI is below 30!\")\n",
    "            rh.place_buy_order(instrument, 1)\n",
    "            traded = True\n",
    "        #Sell when RSI reaches 70\n",
    "        if rsi[len(rsi) - 1] >= 70 and float(key['close_price']) >= currentResistance and currentResistance > 0 and traded:\n",
    "            print(\"Selling RSI is above 70!\")\n",
    "            rh.place_sell_order(instrument, 1)\n",
    "            traded = False\n",
    "        print(rsi)\n",
    "    #call this method again every 5 minutes for new price changes\n",
    "    s.enter(300, 1, run, (sc,))"
   ]
  },
  {
   "cell_type": "code",
   "execution_count": null,
   "metadata": {},
   "outputs": [],
   "source": [
    "s.enter(1,1,run,(s,))\n",
    "s.run()"
   ]
  }
 ],
 "metadata": {
  "kernelspec": {
   "display_name": "Python 3",
   "language": "python",
   "name": "python3"
  },
  "language_info": {
   "codemirror_mode": {
    "name": "ipython",
    "version": 3
   },
   "file_extension": ".py",
   "mimetype": "text/x-python",
   "name": "python",
   "nbconvert_exporter": "python",
   "pygments_lexer": "ipython3",
   "version": "3.8.5"
  }
 },
 "nbformat": 4,
 "nbformat_minor": 5
}
